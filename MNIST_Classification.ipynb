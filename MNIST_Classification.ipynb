{
  "nbformat": 4,
  "nbformat_minor": 0,
  "metadata": {
    "colab": {
      "name": "MNIST Classification.ipynb",
      "provenance": []
    },
    "kernelspec": {
      "name": "python3",
      "display_name": "Python 3"
    },
    "accelerator": "GPU"
  },
  "cells": [
    {
      "cell_type": "code",
      "metadata": {
        "id": "lvdFq0_6Rw1O",
        "colab_type": "code",
        "colab": {}
      },
      "source": [
        "import keras\n",
        "from keras.models import Sequential,Model\n",
        "from keras.utils import to_categorical\n",
        "from keras.layers import Dense, Conv2D, Dropout, Flatten, MaxPooling2D,MaxPool2D\n",
        "import matplotlib.pyplot as plt\n",
        "%matplotlib inline\n"
      ],
      "execution_count": 0,
      "outputs": []
    },
    {
      "cell_type": "code",
      "metadata": {
        "id": "qTZtvhtDR2Jj",
        "colab_type": "code",
        "colab": {}
      },
      "source": [
        "#importing thre datasets from mnist\n",
        "(x_train, y_train), (x_test, y_test) = keras.datasets.mnist.load_data()"
      ],
      "execution_count": 0,
      "outputs": []
    },
    {
      "cell_type": "code",
      "metadata": {
        "id": "yq75_Dg9SC5x",
        "colab_type": "code",
        "outputId": "a0c8c69e-76b3-4cfe-c2f2-9c9b8331b513",
        "colab": {
          "base_uri": "https://localhost:8080/",
          "height": 299
        }
      },
      "source": [
        "print(\"label = \",y_train[1])\n",
        "plt.imshow(x_train[1], cmap='Greys')"
      ],
      "execution_count": 16,
      "outputs": [
        {
          "output_type": "stream",
          "text": [
            "label =  0\n"
          ],
          "name": "stdout"
        },
        {
          "output_type": "execute_result",
          "data": {
            "text/plain": [
              "<matplotlib.image.AxesImage at 0x7f73ec0300f0>"
            ]
          },
          "metadata": {
            "tags": []
          },
          "execution_count": 16
        },
        {
          "output_type": "display_data",
          "data": {
            "image/png": "[encoded data removed]",
            "text/plain": [
              "<Figure size 432x288 with 1 Axes>"
            ]
          },
          "metadata": {
            "tags": []
          }
        }
      ]
    },
    {
      "cell_type": "code",
      "metadata": {
        "id": "3mkfm17OSUKK",
        "colab_type": "code",
        "outputId": "8f5dbacf-6c36-4875-f99f-5ff91af713ec",
        "colab": {
          "base_uri": "https://localhost:8080/",
          "height": 34
        }
      },
      "source": [
        "x_train.shape, y_train.shape"
      ],
      "execution_count": 17,
      "outputs": [
        {
          "output_type": "execute_result",
          "data": {
            "text/plain": [
              "((60000, 28, 28), (60000,))"
            ]
          },
          "metadata": {
            "tags": []
          },
          "execution_count": 17
        }
      ]
    },
    {
      "cell_type": "code",
      "metadata": {
        "id": "dupnDg4CSsFE",
        "colab_type": "code",
        "outputId": "75ce2d3c-9fe6-4c64-858e-6b59bbd33203",
        "colab": {
          "base_uri": "https://localhost:8080/",
          "height": 68
        }
      },
      "source": [
        "# Reshaping the array to 4-dim as it is binary image\n",
        "x_train = x_train.reshape(x_train.shape[0], 28, 28, 1)\n",
        "x_test = x_test.reshape(x_test.shape[0], 28, 28, 1)\n",
        "# values are float so that we can get decimal points after division\n",
        "x_train = x_train.astype('float32')\n",
        "x_test = x_test.astype('float32')\n",
        "# Normalizing as mostly neural networks inputs is between 0-1 \n",
        "x_train /= 255\n",
        "x_test /= 255\n",
        "print('x_train shape:', x_train.shape)\n",
        "print('Number of images in x_train', x_train.shape[0])\n",
        "print('Number of images in x_test', x_test.shape[0])"
      ],
      "execution_count": 18,
      "outputs": [
        {
          "output_type": "stream",
          "text": [
            "x_train shape: (60000, 28, 28, 1)\n",
            "Number of images in x_train 60000\n",
            "Number of images in x_test 10000\n"
          ],
          "name": "stdout"
        }
      ]
    },
    {
      "cell_type": "code",
      "metadata": {
        "id": "WSVufYoxYf-L",
        "colab_type": "code",
        "colab": {}
      },
      "source": [
        "y_train = to_categorical(y_train)\n",
        "y_test = to_categorical(y_test)"
      ],
      "execution_count": 0,
      "outputs": []
    },
    {
      "cell_type": "code",
      "metadata": {
        "id": "BQZlLxzQePFR",
        "colab_type": "code",
        "outputId": "ecb82036-870e-4edf-fde4-044d37bbd601",
        "colab": {
          "base_uri": "https://localhost:8080/",
          "height": 1000
        }
      },
      "source": [
        "# let try with a Simple model\n",
        "input_shape=(28,28,1)\n",
        "from keras.layers.normalization import BatchNormalization\n",
        "model = Sequential()\n",
        "model.add(Conv2D(32, kernel_size=(3, 3),activation='relu',kernel_initializer='he_normal',input_shape=input_shape))\n",
        "model.add(Conv2D(32, kernel_size=(3, 3),activation='relu',kernel_initializer='he_normal'))\n",
        "model.add(MaxPool2D((2, 2)))\n",
        "model.add(Dropout(0.20))\n",
        "model.add(Conv2D(64, (3, 3), activation='relu',padding='same',kernel_initializer='he_normal'))\n",
        "model.add(Conv2D(64, (3, 3), activation='relu',padding='same',kernel_initializer='he_normal'))\n",
        "model.add(MaxPool2D(pool_size=(2, 2)))\n",
        "model.add(Dropout(0.25))\n",
        "model.add(Conv2D(128, (3, 3), activation='relu',padding='same',kernel_initializer='he_normal'))\n",
        "model.add(Dropout(0.25))\n",
        "model.add(Flatten())\n",
        "model.add(Dense(128, activation='relu'))\n",
        "model.add(BatchNormalization())\n",
        "model.add(Dropout(0.25))\n",
        "model.add(Dense(10, activation='softmax'))\n",
        "model.compile(optimizer='Adam', loss='categorical_crossentropy', metrics=['accuracy'])\n",
        "history = model.fit(x_train, y_train, epochs=10, batch_size=32, validation_data=(x_test,y_test), verbose=1)"
      ],
      "execution_count": 9,
      "outputs": [
        {
          "output_type": "stream",
          "text": [
            "WARNING:tensorflow:From /usr/local/lib/python3.6/dist-packages/keras/backend/tensorflow_backend.py:66: The name tf.get_default_graph is deprecated. Please use tf.compat.v1.get_default_graph instead.\n",
            "\n",
            "WARNING:tensorflow:From /usr/local/lib/python3.6/dist-packages/keras/backend/tensorflow_backend.py:541: The name tf.placeholder is deprecated. Please use tf.compat.v1.placeholder instead.\n",
            "\n",
            "WARNING:tensorflow:From /usr/local/lib/python3.6/dist-packages/keras/backend/tensorflow_backend.py:4479: The name tf.truncated_normal is deprecated. Please use tf.random.truncated_normal instead.\n",
            "\n",
            "WARNING:tensorflow:From /usr/local/lib/python3.6/dist-packages/keras/backend/tensorflow_backend.py:4267: The name tf.nn.max_pool is deprecated. Please use tf.nn.max_pool2d instead.\n",
            "\n",
            "WARNING:tensorflow:From /usr/local/lib/python3.6/dist-packages/keras/backend/tensorflow_backend.py:148: The name tf.placeholder_with_default is deprecated. Please use tf.compat.v1.placeholder_with_default instead.\n",
            "\n",
            "WARNING:tensorflow:From /usr/local/lib/python3.6/dist-packages/keras/backend/tensorflow_backend.py:3733: calling dropout (from tensorflow.python.ops.nn_ops) with keep_prob is deprecated and will be removed in a future version.\n",
            "Instructions for updating:\n",
            "Please use `rate` instead of `keep_prob`. Rate should be set to `rate = 1 - keep_prob`.\n",
            "WARNING:tensorflow:From /usr/local/lib/python3.6/dist-packages/keras/backend/tensorflow_backend.py:4432: The name tf.random_uniform is deprecated. Please use tf.random.uniform instead.\n",
            "\n",
            "WARNING:tensorflow:From /usr/local/lib/python3.6/dist-packages/keras/optimizers.py:793: The name tf.train.Optimizer is deprecated. Please use tf.compat.v1.train.Optimizer instead.\n",
            "\n",
            "WARNING:tensorflow:From /usr/local/lib/python3.6/dist-packages/keras/backend/tensorflow_backend.py:3576: The name tf.log is deprecated. Please use tf.math.log instead.\n",
            "\n",
            "WARNING:tensorflow:From /usr/local/lib/python3.6/dist-packages/tensorflow_core/python/ops/math_grad.py:1424: where (from tensorflow.python.ops.array_ops) is deprecated and will be removed in a future version.\n",
            "Instructions for updating:\n",
            "Use tf.where in 2.0, which has the same broadcast rule as np.where\n",
            "WARNING:tensorflow:From /usr/local/lib/python3.6/dist-packages/keras/backend/tensorflow_backend.py:1033: The name tf.assign_add is deprecated. Please use tf.compat.v1.assign_add instead.\n",
            "\n",
            "WARNING:tensorflow:From /usr/local/lib/python3.6/dist-packages/keras/backend/tensorflow_backend.py:1020: The name tf.assign is deprecated. Please use tf.compat.v1.assign instead.\n",
            "\n",
            "WARNING:tensorflow:From /usr/local/lib/python3.6/dist-packages/keras/backend/tensorflow_backend.py:3005: The name tf.Session is deprecated. Please use tf.compat.v1.Session instead.\n",
            "\n",
            "Train on 60000 samples, validate on 10000 samples\n",
            "Epoch 1/10\n",
            "WARNING:tensorflow:From /usr/local/lib/python3.6/dist-packages/keras/backend/tensorflow_backend.py:190: The name tf.get_default_session is deprecated. Please use tf.compat.v1.get_default_session instead.\n",
            "\n",
            "WARNING:tensorflow:From /usr/local/lib/python3.6/dist-packages/keras/backend/tensorflow_backend.py:197: The name tf.ConfigProto is deprecated. Please use tf.compat.v1.ConfigProto instead.\n",
            "\n",
            "WARNING:tensorflow:From /usr/local/lib/python3.6/dist-packages/keras/backend/tensorflow_backend.py:207: The name tf.global_variables is deprecated. Please use tf.compat.v1.global_variables instead.\n",
            "\n",
            "WARNING:tensorflow:From /usr/local/lib/python3.6/dist-packages/keras/backend/tensorflow_backend.py:216: The name tf.is_variable_initialized is deprecated. Please use tf.compat.v1.is_variable_initialized instead.\n",
            "\n",
            "WARNING:tensorflow:From /usr/local/lib/python3.6/dist-packages/keras/backend/tensorflow_backend.py:223: The name tf.variables_initializer is deprecated. Please use tf.compat.v1.variables_initializer instead.\n",
            "\n",
            "60000/60000 [==============================] - 31s 517us/step - loss: 0.1839 - acc: 0.9418 - val_loss: 0.0905 - val_acc: 0.9700\n",
            "Epoch 2/10\n",
            "60000/60000 [==============================] - 17s 278us/step - loss: 0.0730 - acc: 0.9773 - val_loss: 0.0452 - val_acc: 0.9860\n",
            "Epoch 3/10\n",
            "60000/60000 [==============================] - 17s 275us/step - loss: 0.0553 - acc: 0.9829 - val_loss: 0.0260 - val_acc: 0.9914\n",
            "Epoch 4/10\n",
            "60000/60000 [==============================] - 17s 276us/step - loss: 0.0482 - acc: 0.9851 - val_loss: 0.0209 - val_acc: 0.9928\n",
            "Epoch 5/10\n",
            "60000/60000 [==============================] - 17s 276us/step - loss: 0.0415 - acc: 0.9873 - val_loss: 0.0271 - val_acc: 0.9913\n",
            "Epoch 6/10\n",
            "60000/60000 [==============================] - 16s 273us/step - loss: 0.0363 - acc: 0.9886 - val_loss: 0.0198 - val_acc: 0.9930\n",
            "Epoch 7/10\n",
            "60000/60000 [==============================] - 16s 274us/step - loss: 0.0344 - acc: 0.9896 - val_loss: 0.0197 - val_acc: 0.9932\n",
            "Epoch 8/10\n",
            "60000/60000 [==============================] - 16s 272us/step - loss: 0.0319 - acc: 0.9902 - val_loss: 0.0195 - val_acc: 0.9933\n",
            "Epoch 9/10\n",
            "60000/60000 [==============================] - 16s 271us/step - loss: 0.0289 - acc: 0.9913 - val_loss: 0.0209 - val_acc: 0.9939\n",
            "Epoch 10/10\n",
            "60000/60000 [==============================] - 17s 276us/step - loss: 0.0237 - acc: 0.9922 - val_loss: 0.0213 - val_acc: 0.9928\n"
          ],
          "name": "stdout"
        }
      ]
    },
    {
      "cell_type": "code",
      "metadata": {
        "id": "6Z5mxm6YVyEG",
        "colab_type": "code",
        "outputId": "d115c849-bd84-4429-bfc5-8f2423e08956",
        "colab": {
          "base_uri": "https://localhost:8080/",
          "height": 51
        }
      },
      "source": [
        "model.evaluate(x_test, y_test)\n",
        "#loss and accuracy"
      ],
      "execution_count": 11,
      "outputs": [
        {
          "output_type": "stream",
          "text": [
            "10000/10000 [==============================] - 1s 70us/step\n"
          ],
          "name": "stdout"
        },
        {
          "output_type": "execute_result",
          "data": {
            "text/plain": [
              "[0.021258249162261926, 0.9928]"
            ]
          },
          "metadata": {
            "tags": []
          },
          "execution_count": 11
        }
      ]
    },
    {
      "cell_type": "code",
      "metadata": {
        "id": "z_v13Bxzb9IB",
        "colab_type": "code",
        "outputId": "c87c18b8-6a82-4cf3-aa35-7bf9f0a7d4c9",
        "colab": {
          "base_uri": "https://localhost:8080/",
          "height": 663
        }
      },
      "source": [
        "#But this model has too many parameters\n",
        "model.summary()"
      ],
      "execution_count": 10,
      "outputs": [
        {
          "output_type": "stream",
          "text": [
            "Model: \"sequential_1\"\n",
            "_________________________________________________________________\n",
            "Layer (type)                 Output Shape              Param #   \n",
            "=================================================================\n",
            "conv2d_1 (Conv2D)            (None, 26, 26, 32)        320       \n",
            "_________________________________________________________________\n",
            "conv2d_2 (Conv2D)            (None, 24, 24, 32)        9248      \n",
            "_________________________________________________________________\n",
            "max_pooling2d_1 (MaxPooling2 (None, 12, 12, 32)        0         \n",
            "_________________________________________________________________\n",
            "dropout_1 (Dropout)          (None, 12, 12, 32)        0         \n",
            "_________________________________________________________________\n",
            "conv2d_3 (Conv2D)            (None, 12, 12, 64)        18496     \n",
            "_________________________________________________________________\n",
            "conv2d_4 (Conv2D)            (None, 12, 12, 64)        36928     \n",
            "_________________________________________________________________\n",
            "max_pooling2d_2 (MaxPooling2 (None, 6, 6, 64)          0         \n",
            "_________________________________________________________________\n",
            "dropout_2 (Dropout)          (None, 6, 6, 64)          0         \n",
            "_________________________________________________________________\n",
            "conv2d_5 (Conv2D)            (None, 6, 6, 128)         73856     \n",
            "_________________________________________________________________\n",
            "dropout_3 (Dropout)          (None, 6, 6, 128)         0         \n",
            "_________________________________________________________________\n",
            "flatten_1 (Flatten)          (None, 4608)              0         \n",
            "_________________________________________________________________\n",
            "dense_1 (Dense)              (None, 128)               589952    \n",
            "_________________________________________________________________\n",
            "batch_normalization_1 (Batch (None, 128)               512       \n",
            "_________________________________________________________________\n",
            "dropout_4 (Dropout)          (None, 128)               0         \n",
            "_________________________________________________________________\n",
            "dense_2 (Dense)              (None, 10)                1290      \n",
            "=================================================================\n",
            "Total params: 730,602\n",
            "Trainable params: 730,346\n",
            "Non-trainable params: 256\n",
            "_________________________________________________________________\n"
          ],
          "name": "stdout"
        }
      ]
    },
    {
      "cell_type": "code",
      "metadata": {
        "id": "mfcN5M2Wb9st",
        "colab_type": "code",
        "outputId": "449124a5-49d4-47e3-c2ac-d89632f1f7dc",
        "colab": {
          "base_uri": "https://localhost:8080/",
          "height": 545
        }
      },
      "source": [
        "#lets check the plot for accuracy and losses\n",
        "val_accuracy = history.history['val_acc']\n",
        "accuracy = history.history['acc']\n",
        "loss = history.history['loss']\n",
        "val_loss = history.history['val_loss']\n",
        "epochs = range(len(accuracy))\n",
        "plt.plot(epochs, accuracy, 'bo', label='Training accuracy')\n",
        "plt.plot(epochs, val_accuracy, 'b', label='Validation accuracy')\n",
        "plt.title('Training and validation accuracy')\n",
        "plt.legend()\n",
        "plt.figure()\n",
        "plt.plot(epochs, loss, 'bo', label='Training loss')\n",
        "plt.plot(epochs, val_loss, 'b', label='Validation loss')\n",
        "plt.title('Training and validation loss')\n",
        "plt.legend()\n",
        "plt.show()"
      ],
      "execution_count": 12,
      "outputs": [
        {
          "output_type": "display_data",
          "data": {
            "image/png": "[encoded data removed]",
            "text/plain": [
              "<Figure size 432x288 with 1 Axes>"
            ]
          },
          "metadata": {
            "tags": []
          }
        },
        {
          "output_type": "display_data",
          "data": {
            "image/png": "[encoded data removed]",
            "text/plain": [
              "<Figure size 432x288 with 1 Axes>"
            ]
          },
          "metadata": {
            "tags": []
          }
        }
      ]
    },
    {
      "cell_type": "code",
      "metadata": {
        "id": "-mkSjaAhdKgu",
        "colab_type": "code",
        "outputId": "c03602c8-6a92-4b31-b646-3ccce9b7e495",
        "colab": {
          "base_uri": "https://localhost:8080/",
          "height": 581
        }
      },
      "source": [
        "#Now builds our model with very less parameters \n",
        "from keras.layers import Input, Dense\n",
        "from keras.models import Model\n",
        "from keras.layers import concatenate\n",
        "\n",
        "\n",
        "inputs = Input(shape=(28,28,1))\n",
        "lay1=Conv2D(2,kernel_size=(1,1),activation='relu',padding='same')(inputs)\n",
        "lay1=Conv2D(2,kernel_size=(7,7),strides=(2,2),activation='relu',padding='same')(lay1)\n",
        "lay1=Conv2D(2,kernel_size=(1,1),activation='relu',padding='same')(lay1)\n",
        "lay1=MaxPooling2D(pool_size=(7,7),strides=(2,2),padding='same')(lay1)\n",
        "lay2=Conv2D(4,kernel_size=(1,1),activation='relu',padding='same')(inputs)\n",
        "lay2=Conv2D(4,kernel_size=(7,7),strides=(2,2),activation='relu',padding='same')(lay2)\n",
        "lay2=Conv2D(4,kernel_size=(1,1),activation='relu',padding='same')(lay2)\n",
        "lay2=MaxPooling2D(pool_size=(7,7),strides=(2,2),padding='same')(lay2)\n",
        "lay3=Conv2D(7,kernel_size=(1,1),activation='relu',padding='same')(inputs)\n",
        "lay3=Conv2D(7,kernel_size=(7,7),strides=(2,2),activation='relu',padding='same')(lay3)\n",
        "lay3=Conv2D(7,kernel_size=(1,1),activation='relu',padding='same')(lay3)\n",
        "lay3=MaxPooling2D(pool_size=(7,7),strides=(2,2),padding='same')(lay3)\n",
        "fc=concatenate([lay1,lay2,lay3])\n",
        "fc=Flatten()(fc)\n",
        "fc=Dense(10,activation='relu')(fc)\n",
        "outputs=Dense(10,activation='softmax')(fc)\n",
        "model=Model(input=inputs,output=outputs)\n",
        "model.compile(optimizer='Adam', loss='categorical_crossentropy', metrics=['accuracy'])\n",
        "history = model.fit(x_train, y_train, epochs=15, batch_size=32, validation_data=(x_test,y_test), verbose=1)\n"
      ],
      "execution_count": 22,
      "outputs": [
        {
          "output_type": "stream",
          "text": [
            "/usr/local/lib/python3.6/dist-packages/ipykernel_launcher.py:23: UserWarning: Update your `Model` call to the Keras 2 API: `Model(inputs=Tensor(\"in..., outputs=Tensor(\"de...)`\n"
          ],
          "name": "stderr"
        },
        {
          "output_type": "stream",
          "text": [
            "Train on 60000 samples, validate on 10000 samples\n",
            "Epoch 1/15\n",
            "60000/60000 [==============================] - 14s 241us/step - loss: 0.3964 - acc: 0.8748 - val_loss: 0.1469 - val_acc: 0.9516\n",
            "Epoch 2/15\n",
            "60000/60000 [==============================] - 13s 224us/step - loss: 0.1188 - acc: 0.9637 - val_loss: 0.0801 - val_acc: 0.9759\n",
            "Epoch 3/15\n",
            "60000/60000 [==============================] - 13s 223us/step - loss: 0.0927 - acc: 0.9711 - val_loss: 0.0725 - val_acc: 0.9763\n",
            "Epoch 4/15\n",
            "60000/60000 [==============================] - 13s 223us/step - loss: 0.0788 - acc: 0.9758 - val_loss: 0.0688 - val_acc: 0.9778\n",
            "Epoch 5/15\n",
            "60000/60000 [==============================] - 13s 222us/step - loss: 0.0702 - acc: 0.9779 - val_loss: 0.0488 - val_acc: 0.9846\n",
            "Epoch 6/15\n",
            "60000/60000 [==============================] - 13s 221us/step - loss: 0.0643 - acc: 0.9799 - val_loss: 0.0574 - val_acc: 0.9821\n",
            "Epoch 7/15\n",
            "60000/60000 [==============================] - 13s 216us/step - loss: 0.0581 - acc: 0.9816 - val_loss: 0.0488 - val_acc: 0.9829\n",
            "Epoch 8/15\n",
            "60000/60000 [==============================] - 13s 216us/step - loss: 0.0570 - acc: 0.9821 - val_loss: 0.0502 - val_acc: 0.9840\n",
            "Epoch 9/15\n",
            "60000/60000 [==============================] - 13s 218us/step - loss: 0.0512 - acc: 0.9835 - val_loss: 0.0545 - val_acc: 0.9814\n",
            "Epoch 10/15\n",
            "60000/60000 [==============================] - 13s 217us/step - loss: 0.0495 - acc: 0.9839 - val_loss: 0.0404 - val_acc: 0.9866\n",
            "Epoch 11/15\n",
            "60000/60000 [==============================] - 13s 218us/step - loss: 0.0464 - acc: 0.9853 - val_loss: 0.0651 - val_acc: 0.9788\n",
            "Epoch 12/15\n",
            "60000/60000 [==============================] - 13s 216us/step - loss: 0.0444 - acc: 0.9855 - val_loss: 0.0408 - val_acc: 0.9868\n",
            "Epoch 13/15\n",
            "60000/60000 [==============================] - 13s 218us/step - loss: 0.0416 - acc: 0.9868 - val_loss: 0.0533 - val_acc: 0.9836\n",
            "Epoch 14/15\n",
            "60000/60000 [==============================] - 13s 215us/step - loss: 0.0409 - acc: 0.9860 - val_loss: 0.0470 - val_acc: 0.9842\n",
            "Epoch 15/15\n",
            "60000/60000 [==============================] - 13s 214us/step - loss: 0.0396 - acc: 0.9871 - val_loss: 0.0403 - val_acc: 0.9868\n"
          ],
          "name": "stdout"
        }
      ]
    },
    {
      "cell_type": "code",
      "metadata": {
        "id": "o0-n41ZAjrmD",
        "colab_type": "code",
        "colab": {
          "base_uri": "https://localhost:8080/",
          "height": 765
        },
        "outputId": "05c8867a-a087-448d-c5a6-af34d5e421f3"
      },
      "source": [
        "#See it has very less parameters <=10,000\n",
        "model.summary()"
      ],
      "execution_count": 23,
      "outputs": [
        {
          "output_type": "stream",
          "text": [
            "Model: \"model_3\"\n",
            "__________________________________________________________________________________________________\n",
            "Layer (type)                    Output Shape         Param #     Connected to                     \n",
            "==================================================================================================\n",
            "input_3 (InputLayer)            (None, 28, 28, 1)    0                                            \n",
            "__________________________________________________________________________________________________\n",
            "conv2d_24 (Conv2D)              (None, 28, 28, 2)    4           input_3[0][0]                    \n",
            "__________________________________________________________________________________________________\n",
            "conv2d_27 (Conv2D)              (None, 28, 28, 4)    8           input_3[0][0]                    \n",
            "__________________________________________________________________________________________________\n",
            "conv2d_30 (Conv2D)              (None, 28, 28, 7)    14          input_3[0][0]                    \n",
            "__________________________________________________________________________________________________\n",
            "conv2d_25 (Conv2D)              (None, 14, 14, 2)    198         conv2d_24[0][0]                  \n",
            "__________________________________________________________________________________________________\n",
            "conv2d_28 (Conv2D)              (None, 14, 14, 4)    788         conv2d_27[0][0]                  \n",
            "__________________________________________________________________________________________________\n",
            "conv2d_31 (Conv2D)              (None, 14, 14, 7)    2408        conv2d_30[0][0]                  \n",
            "__________________________________________________________________________________________________\n",
            "conv2d_26 (Conv2D)              (None, 14, 14, 2)    6           conv2d_25[0][0]                  \n",
            "__________________________________________________________________________________________________\n",
            "conv2d_29 (Conv2D)              (None, 14, 14, 4)    20          conv2d_28[0][0]                  \n",
            "__________________________________________________________________________________________________\n",
            "conv2d_32 (Conv2D)              (None, 14, 14, 7)    56          conv2d_31[0][0]                  \n",
            "__________________________________________________________________________________________________\n",
            "max_pooling2d_9 (MaxPooling2D)  (None, 7, 7, 2)      0           conv2d_26[0][0]                  \n",
            "__________________________________________________________________________________________________\n",
            "max_pooling2d_10 (MaxPooling2D) (None, 7, 7, 4)      0           conv2d_29[0][0]                  \n",
            "__________________________________________________________________________________________________\n",
            "max_pooling2d_11 (MaxPooling2D) (None, 7, 7, 7)      0           conv2d_32[0][0]                  \n",
            "__________________________________________________________________________________________________\n",
            "concatenate_3 (Concatenate)     (None, 7, 7, 13)     0           max_pooling2d_9[0][0]            \n",
            "                                                                 max_pooling2d_10[0][0]           \n",
            "                                                                 max_pooling2d_11[0][0]           \n",
            "__________________________________________________________________________________________________\n",
            "flatten_4 (Flatten)             (None, 637)          0           concatenate_3[0][0]              \n",
            "__________________________________________________________________________________________________\n",
            "dense_7 (Dense)                 (None, 10)           6380        flatten_4[0][0]                  \n",
            "__________________________________________________________________________________________________\n",
            "dense_8 (Dense)                 (None, 10)           110         dense_7[0][0]                    \n",
            "==================================================================================================\n",
            "Total params: 9,992\n",
            "Trainable params: 9,992\n",
            "Non-trainable params: 0\n",
            "__________________________________________________________________________________________________\n"
          ],
          "name": "stdout"
        }
      ]
    },
    {
      "cell_type": "code",
      "metadata": {
        "id": "idLUtV8oEei4",
        "colab_type": "code",
        "colab": {
          "base_uri": "https://localhost:8080/",
          "height": 545
        },
        "outputId": "6e47ae45-456f-424c-8370-46ee387be897"
      },
      "source": [
        "#lets check the plot for accuracy and losses\n",
        "val_accuracy = history.history['val_acc']\n",
        "accuracy = history.history['acc']\n",
        "loss = history.history['loss']\n",
        "val_loss = history.history['val_loss']\n",
        "epochs = range(len(accuracy))\n",
        "plt.plot(epochs, accuracy, 'bo', label='Training accuracy')\n",
        "plt.plot(epochs, val_accuracy, 'b', label='Validation accuracy')\n",
        "plt.title('Training and validation accuracy')\n",
        "plt.legend()\n",
        "plt.figure()\n",
        "plt.plot(epochs, loss, 'bo', label='Training loss')\n",
        "plt.plot(epochs, val_loss, 'b', label='Validation loss')\n",
        "plt.title('Training and validation loss')\n",
        "plt.legend()\n",
        "plt.show()"
      ],
      "execution_count": 24,
      "outputs": [
        {
          "output_type": "display_data",
          "data": {
            "image/png": "[encoded data removed]",
            "text/plain": [
              "<Figure size 432x288 with 1 Axes>"
            ]
          },
          "metadata": {
            "tags": []
          }
        },
        {
          "output_type": "display_data",
          "data": {
            "image/png": "[encoded data removed]",
            "text/plain": [
              "<Figure size 432x288 with 1 Axes>"
            ]
          },
          "metadata": {
            "tags": []
          }
        }
      ]
    },
    {
      "cell_type": "code",
      "metadata": {
        "id": "EUnLSGDDFQX2",
        "colab_type": "code",
        "colab": {}
      },
      "source": [
        ""
      ],
      "execution_count": 0,
      "outputs": []
    }
  ]
}